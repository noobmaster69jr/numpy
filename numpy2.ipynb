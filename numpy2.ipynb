{
  "nbformat": 4,
  "nbformat_minor": 0,
  "metadata": {
    "colab": {
      "provenance": []
    },
    "kernelspec": {
      "name": "python3",
      "display_name": "Python 3"
    },
    "language_info": {
      "name": "python"
    }
  },
  "cells": [
    {
      "cell_type": "markdown",
      "source": [
        "Universal functions(Ufuncs) - vectorized functions\n",
        "* Aggregate functions/Reduction functions\n",
        "* Logical functions"
      ],
      "metadata": {
        "id": "T9IF0qJ8_N3K"
      }
    },
    {
      "cell_type": "markdown",
      "source": [
        "vectorization is used speed up the code by without using loop"
      ],
      "metadata": {
        "id": "2aHFkX_2APe6"
      }
    },
    {
      "cell_type": "code",
      "execution_count": 2,
      "metadata": {
        "id": "-3DAwsqe-Tzt"
      },
      "outputs": [],
      "source": [
        "import numpy as np"
      ]
    },
    {
      "cell_type": "code",
      "source": [
        "a = np.array([1,2 ,3, 4])\n",
        "b = np.array([2, 3, 4, 5])\n",
        "a+b"
      ],
      "metadata": {
        "colab": {
          "base_uri": "https://localhost:8080/"
        },
        "id": "HGybEgEfAZzL",
        "outputId": "20e8ebe1-fe3e-4103-ea24-df42d74b11f1"
      },
      "execution_count": 3,
      "outputs": [
        {
          "output_type": "execute_result",
          "data": {
            "text/plain": [
              "array([3, 5, 7, 9])"
            ]
          },
          "metadata": {},
          "execution_count": 3
        }
      ]
    },
    {
      "cell_type": "code",
      "source": [
        "np.add(a, b)"
      ],
      "metadata": {
        "colab": {
          "base_uri": "https://localhost:8080/"
        },
        "id": "wYTQ5h4YAnWJ",
        "outputId": "56595881-9256-44a9-d67b-9fc9c1135561"
      },
      "execution_count": 5,
      "outputs": [
        {
          "output_type": "execute_result",
          "data": {
            "text/plain": [
              "array([3, 5, 7, 9])"
            ]
          },
          "metadata": {},
          "execution_count": 5
        }
      ]
    },
    {
      "cell_type": "code",
      "source": [
        "#sum\n",
        "a = np.arange(12).reshape(3, 4)\n",
        "print(a)\n"
      ],
      "metadata": {
        "colab": {
          "base_uri": "https://localhost:8080/"
        },
        "id": "yAGx1_tnApD9",
        "outputId": "8b498b42-fc1a-463b-dd2d-4cacc66cd96b"
      },
      "execution_count": 9,
      "outputs": [
        {
          "output_type": "stream",
          "name": "stdout",
          "text": [
            "[[ 0  1  2  3]\n",
            " [ 4  5  6  7]\n",
            " [ 8  9 10 11]]\n"
          ]
        },
        {
          "output_type": "execute_result",
          "data": {
            "text/plain": [
              "66"
            ]
          },
          "metadata": {},
          "execution_count": 9
        }
      ]
    },
    {
      "cell_type": "code",
      "source": [
        "np.sum(a)"
      ],
      "metadata": {
        "colab": {
          "base_uri": "https://localhost:8080/"
        },
        "id": "We-FkmtTAo_m",
        "outputId": "9025638c-7c8e-4157-8290-6e7bfa3bf1e5"
      },
      "execution_count": 10,
      "outputs": [
        {
          "output_type": "execute_result",
          "data": {
            "text/plain": [
              "66"
            ]
          },
          "metadata": {},
          "execution_count": 10
        }
      ]
    },
    {
      "cell_type": "code",
      "source": [
        "a.shape"
      ],
      "metadata": {
        "colab": {
          "base_uri": "https://localhost:8080/"
        },
        "id": "1AUCrdmsAo7z",
        "outputId": "46a32c0e-de01-4070-944b-389bb80207d2"
      },
      "execution_count": 11,
      "outputs": [
        {
          "output_type": "execute_result",
          "data": {
            "text/plain": [
              "(3, 4)"
            ]
          },
          "metadata": {},
          "execution_count": 11
        }
      ]
    },
    {
      "cell_type": "code",
      "source": [
        "a.reshape(4, 3)"
      ],
      "metadata": {
        "colab": {
          "base_uri": "https://localhost:8080/"
        },
        "id": "rq_kZUdMAo3r",
        "outputId": "fd44570d-102d-4adc-f67b-6e5e09fa346f"
      },
      "execution_count": 15,
      "outputs": [
        {
          "output_type": "execute_result",
          "data": {
            "text/plain": [
              "array([[ 0,  1,  2],\n",
              "       [ 3,  4,  5],\n",
              "       [ 6,  7,  8],\n",
              "       [ 9, 10, 11]])"
            ]
          },
          "metadata": {},
          "execution_count": 15
        }
      ]
    },
    {
      "cell_type": "code",
      "source": [
        "np.sum(a, axis=0)"
      ],
      "metadata": {
        "colab": {
          "base_uri": "https://localhost:8080/"
        },
        "id": "eMDvRZVQAoza",
        "outputId": "ddf7424d-fcb2-459a-fa83-ceb13784a8d4"
      },
      "execution_count": 16,
      "outputs": [
        {
          "output_type": "execute_result",
          "data": {
            "text/plain": [
              "array([12, 15, 18, 21])"
            ]
          },
          "metadata": {},
          "execution_count": 16
        }
      ]
    },
    {
      "cell_type": "code",
      "source": [
        "np.sum(a, axis=1)"
      ],
      "metadata": {
        "colab": {
          "base_uri": "https://localhost:8080/"
        },
        "id": "nO1gkUI0Aovl",
        "outputId": "4ae22a9c-ad68-4931-a57c-46d2a8dd9303"
      },
      "execution_count": 17,
      "outputs": [
        {
          "output_type": "execute_result",
          "data": {
            "text/plain": [
              "array([ 6, 22, 38])"
            ]
          },
          "metadata": {},
          "execution_count": 17
        }
      ]
    },
    {
      "cell_type": "code",
      "source": [
        "np.mean(a)"
      ],
      "metadata": {
        "colab": {
          "base_uri": "https://localhost:8080/"
        },
        "id": "Ew5_l0LYAoru",
        "outputId": "72e82ae9-8ff1-4cf3-cef2-2657c669bd1b"
      },
      "execution_count": 19,
      "outputs": [
        {
          "output_type": "execute_result",
          "data": {
            "text/plain": [
              "5.5"
            ]
          },
          "metadata": {},
          "execution_count": 19
        }
      ]
    },
    {
      "cell_type": "code",
      "source": [
        "np.mean(a, axis = 0)"
      ],
      "metadata": {
        "colab": {
          "base_uri": "https://localhost:8080/"
        },
        "id": "2NZlIQg1Aont",
        "outputId": "b86ac92d-be5d-4ca6-e1cf-92ee47d74ad1"
      },
      "execution_count": 25,
      "outputs": [
        {
          "output_type": "execute_result",
          "data": {
            "text/plain": [
              "array([4., 5., 6., 7.])"
            ]
          },
          "metadata": {},
          "execution_count": 25
        }
      ]
    },
    {
      "cell_type": "code",
      "source": [
        "np.mean(a, axis =1)"
      ],
      "metadata": {
        "colab": {
          "base_uri": "https://localhost:8080/"
        },
        "id": "YfooRCvcAnQE",
        "outputId": "539d236a-49d0-48b3-f5f2-4e5027a37535"
      },
      "execution_count": 24,
      "outputs": [
        {
          "output_type": "execute_result",
          "data": {
            "text/plain": [
              "array([1.5, 5.5, 9.5])"
            ]
          },
          "metadata": {},
          "execution_count": 24
        }
      ]
    },
    {
      "cell_type": "code",
      "source": [
        "np.min(a, axis = 1)"
      ],
      "metadata": {
        "colab": {
          "base_uri": "https://localhost:8080/"
        },
        "id": "hRT8bebNAnDz",
        "outputId": "d70967fa-b8fe-44ed-a216-12a75173ad70"
      },
      "execution_count": 26,
      "outputs": [
        {
          "output_type": "execute_result",
          "data": {
            "text/plain": [
              "array([0, 4, 8])"
            ]
          },
          "metadata": {},
          "execution_count": 26
        }
      ]
    },
    {
      "cell_type": "code",
      "source": [
        "# Logical Functions"
      ],
      "metadata": {
        "id": "8gy_7LPSAm2F"
      },
      "execution_count": null,
      "outputs": []
    },
    {
      "cell_type": "code",
      "source": [
        "a = np.array([1,0,  2, 3,0, 4])\n",
        "b = np.array([0 , 0])"
      ],
      "metadata": {
        "id": "4st8VXPoAmyc"
      },
      "execution_count": 31,
      "outputs": []
    },
    {
      "cell_type": "code",
      "source": [
        "# if there is any element in the array which is non-zero\n",
        "print(a.any(), b.any())"
      ],
      "metadata": {
        "colab": {
          "base_uri": "https://localhost:8080/"
        },
        "id": "GAbt2WB8CJp5",
        "outputId": "afc1d485-8116-43d6-aafc-044ea2d829f2"
      },
      "execution_count": 30,
      "outputs": [
        {
          "output_type": "stream",
          "name": "stdout",
          "text": [
            "True False\n"
          ]
        }
      ]
    },
    {
      "cell_type": "code",
      "source": [
        "# if there is any element pair where certain condition is true\n",
        "\n",
        "a = np.array([1, 2, 3, 4])\n",
        "b = np.array([4, 3, 2, 1])\n",
        "print(a, b)"
      ],
      "metadata": {
        "colab": {
          "base_uri": "https://localhost:8080/"
        },
        "id": "NB7l1Pp7CJle",
        "outputId": "a87de875-51b4-4a82-cb9c-ded0ddab8b5b"
      },
      "execution_count": 32,
      "outputs": [
        {
          "output_type": "stream",
          "name": "stdout",
          "text": [
            "[1 2 3 4] [4 3 2 1]\n"
          ]
        }
      ]
    },
    {
      "cell_type": "code",
      "source": [
        "a <= b  # <= is a vectorized operator"
      ],
      "metadata": {
        "colab": {
          "base_uri": "https://localhost:8080/"
        },
        "id": "JPjOg_L1CJhV",
        "outputId": "b0c9b754-39fb-4630-c5e6-af2adc836632"
      },
      "execution_count": 37,
      "outputs": [
        {
          "output_type": "execute_result",
          "data": {
            "text/plain": [
              "array([ True,  True,  True,  True])"
            ]
          },
          "metadata": {},
          "execution_count": 37
        }
      ]
    },
    {
      "cell_type": "code",
      "source": [
        "np.any(a < b)"
      ],
      "metadata": {
        "colab": {
          "base_uri": "https://localhost:8080/"
        },
        "id": "_kgCrA7QCJc5",
        "outputId": "36657b43-711e-4c7d-bd4e-4c26e764c7ef"
      },
      "execution_count": 34,
      "outputs": [
        {
          "output_type": "execute_result",
          "data": {
            "text/plain": [
              "True"
            ]
          },
          "metadata": {},
          "execution_count": 34
        }
      ]
    },
    {
      "cell_type": "code",
      "source": [
        "# check if condition is true for all cases\n",
        "np.all(a < b)"
      ],
      "metadata": {
        "colab": {
          "base_uri": "https://localhost:8080/"
        },
        "id": "FRhkuJdLCJYG",
        "outputId": "51f5bfc6-10ed-4cca-9ddf-ad3958cdf222"
      },
      "execution_count": 35,
      "outputs": [
        {
          "output_type": "execute_result",
          "data": {
            "text/plain": [
              "False"
            ]
          },
          "metadata": {},
          "execution_count": 35
        }
      ]
    },
    {
      "cell_type": "code",
      "source": [
        "a = np.array([1, 2, 3, 2])\n",
        "b = np.array([2, 2, 3, 2])\n",
        "c = np.array([6, 4, 4, 5])\n",
        "np.all((a <= b) & (b <= c))"
      ],
      "metadata": {
        "colab": {
          "base_uri": "https://localhost:8080/"
        },
        "id": "EeLk0ZK1CJUD",
        "outputId": "9de701b9-88fa-471e-ac9e-110eab4a92ce"
      },
      "execution_count": 36,
      "outputs": [
        {
          "output_type": "execute_result",
          "data": {
            "text/plain": [
              "True"
            ]
          },
          "metadata": {},
          "execution_count": 36
        }
      ]
    },
    {
      "cell_type": "code",
      "source": [
        "# Sorting"
      ],
      "metadata": {
        "id": "BbniU1ZqCJQC"
      },
      "execution_count": null,
      "outputs": []
    },
    {
      "cell_type": "code",
      "source": [
        "a = np.array([2, 30, 41, 7, 17, 52])"
      ],
      "metadata": {
        "id": "bowMNAJGCJKH"
      },
      "execution_count": 45,
      "outputs": []
    },
    {
      "cell_type": "code",
      "source": [
        "np.sort(a)"
      ],
      "metadata": {
        "colab": {
          "base_uri": "https://localhost:8080/"
        },
        "id": "n9GcY0wgCJFN",
        "outputId": "8c423280-6ff1-4112-ca11-65e63f4a0254"
      },
      "execution_count": 46,
      "outputs": [
        {
          "output_type": "execute_result",
          "data": {
            "text/plain": [
              "array([ 2,  7, 17, 30, 41, 52])"
            ]
          },
          "metadata": {},
          "execution_count": 46
        }
      ]
    },
    {
      "cell_type": "code",
      "source": [
        "np.argsort(a)  # returns index of elements in sorted order"
      ],
      "metadata": {
        "colab": {
          "base_uri": "https://localhost:8080/"
        },
        "id": "2YXShJFyCJBA",
        "outputId": "dccb1ec5-37eb-4f70-d66e-4f6fe1d30c17"
      },
      "execution_count": 47,
      "outputs": [
        {
          "output_type": "execute_result",
          "data": {
            "text/plain": [
              "array([0, 3, 4, 1, 2, 5])"
            ]
          },
          "metadata": {},
          "execution_count": 47
        }
      ]
    },
    {
      "cell_type": "code",
      "source": [
        "a"
      ],
      "metadata": {
        "colab": {
          "base_uri": "https://localhost:8080/"
        },
        "id": "MCqbm7q_CI8y",
        "outputId": "39a7f092-80ec-4144-e67c-0997bd589f18"
      },
      "execution_count": 49,
      "outputs": [
        {
          "output_type": "execute_result",
          "data": {
            "text/plain": [
              "array([ 2, 30, 41,  7, 17, 52])"
            ]
          },
          "metadata": {},
          "execution_count": 49
        }
      ]
    },
    {
      "cell_type": "code",
      "source": [
        "# sorting ? if axis is not provided, by default sort, argsort\n",
        "# sorts the last dimension"
      ],
      "metadata": {
        "id": "dYbF5CNSCI1f"
      },
      "execution_count": null,
      "outputs": []
    },
    {
      "cell_type": "code",
      "source": [
        "a = np.array([[23,4,43],\n",
        "              [12,89,3],\n",
        "              [69,420,0]])\n",
        "b = np.sort(a)\n",
        "print(b)"
      ],
      "metadata": {
        "colab": {
          "base_uri": "https://localhost:8080/"
        },
        "id": "RTYwrNYwCIqL",
        "outputId": "14587b5b-8639-41ec-b0e0-b00bc11815ea"
      },
      "execution_count": 51,
      "outputs": [
        {
          "output_type": "stream",
          "name": "stdout",
          "text": [
            "[[  4  23  43]\n",
            " [  3  12  89]\n",
            " [  0  69 420]]\n"
          ]
        }
      ]
    },
    {
      "cell_type": "code",
      "source": [
        "c = np.sort(b , axis = 0 )\n",
        "c"
      ],
      "metadata": {
        "colab": {
          "base_uri": "https://localhost:8080/"
        },
        "id": "7EoBloKqFZI3",
        "outputId": "d5873520-387d-4816-af53-7f25674500d9"
      },
      "execution_count": 53,
      "outputs": [
        {
          "output_type": "execute_result",
          "data": {
            "text/plain": [
              "array([[  0,  12,  43],\n",
              "       [  3,  23,  89],\n",
              "       [  4,  69, 420]])"
            ]
          },
          "metadata": {},
          "execution_count": 53
        }
      ]
    },
    {
      "cell_type": "code",
      "source": [
        "!gdown 1kXqcJo4YzmwF1G2BPoA17CI49TZVHANF"
      ],
      "metadata": {
        "colab": {
          "base_uri": "https://localhost:8080/"
        },
        "id": "uXBpD3dyFum-",
        "outputId": "467e03ce-7a88-4e09-9135-35d90839f3f4"
      },
      "execution_count": 54,
      "outputs": [
        {
          "output_type": "stream",
          "name": "stdout",
          "text": [
            "Downloading...\n",
            "From: https://drive.google.com/uc?id=1kXqcJo4YzmwF1G2BPoA17CI49TZVHANF\n",
            "To: /content/fitness.txt\n",
            "\r  0% 0.00/3.14k [00:00<?, ?B/s]\r100% 3.14k/3.14k [00:00<00:00, 12.7MB/s]\n"
          ]
        }
      ]
    },
    {
      "cell_type": "code",
      "source": [
        "data = np.loadtxt(\"fitness.txt\", dtype=\"str\")"
      ],
      "metadata": {
        "id": "TlcBzRZKFuho"
      },
      "execution_count": 56,
      "outputs": []
    },
    {
      "cell_type": "code",
      "source": [
        "data.ndim"
      ],
      "metadata": {
        "colab": {
          "base_uri": "https://localhost:8080/"
        },
        "id": "a3D-dDrXFuc3",
        "outputId": "fc391c64-505e-4c65-ae3c-2a7ef9d23e94"
      },
      "execution_count": 59,
      "outputs": [
        {
          "output_type": "execute_result",
          "data": {
            "text/plain": [
              "2"
            ]
          },
          "metadata": {},
          "execution_count": 59
        }
      ]
    },
    {
      "cell_type": "code",
      "source": [
        "# no of rows and no of columns"
      ],
      "metadata": {
        "id": "ogEdfRKKFuX_"
      },
      "execution_count": null,
      "outputs": []
    },
    {
      "cell_type": "code",
      "source": [
        "data.shape"
      ],
      "metadata": {
        "colab": {
          "base_uri": "https://localhost:8080/"
        },
        "id": "8bbN_Uj_FuTW",
        "outputId": "a40b8c6e-6a3d-45b7-9d7d-8e0051e545f1"
      },
      "execution_count": 60,
      "outputs": [
        {
          "output_type": "execute_result",
          "data": {
            "text/plain": [
              "(96, 7)"
            ]
          },
          "metadata": {},
          "execution_count": 60
        }
      ]
    },
    {
      "cell_type": "code",
      "source": [
        "data"
      ],
      "metadata": {
        "colab": {
          "base_uri": "https://localhost:8080/"
        },
        "id": "TZ89nUm8FuOx",
        "outputId": "4455d9a5-5d13-4e6d-e06b-1971963a47bb"
      },
      "execution_count": 61,
      "outputs": [
        {
          "output_type": "execute_result",
          "data": {
            "text/plain": [
              "array([['06-10-2017', '5464', '200', '181', '5', '0', '66'],\n",
              "       ['07-10-2017', '6041', '100', '197', '8', '0', '66'],\n",
              "       ['08-10-2017', '25', '100', '0', '5', '0', '66'],\n",
              "       ['09-10-2017', '5461', '100', '174', '4', '0', '66'],\n",
              "       ['10-10-2017', '6915', '200', '223', '5', '500', '66'],\n",
              "       ['11-10-2017', '4545', '100', '149', '6', '0', '66'],\n",
              "       ['12-10-2017', '4340', '100', '140', '6', '0', '66'],\n",
              "       ['13-10-2017', '1230', '100', '38', '7', '0', '66'],\n",
              "       ['14-10-2017', '61', '100', '1', '5', '0', '66'],\n",
              "       ['15-10-2017', '1258', '100', '40', '6', '0', '65'],\n",
              "       ['16-10-2017', '3148', '100', '101', '8', '0', '65'],\n",
              "       ['17-10-2017', '4687', '100', '152', '5', '0', '65'],\n",
              "       ['18-10-2017', '4732', '300', '150', '6', '500', '65'],\n",
              "       ['19-10-2017', '3519', '100', '113', '7', '0', '65'],\n",
              "       ['20-10-2017', '1580', '100', '49', '5', '0', '65'],\n",
              "       ['21-10-2017', '2822', '100', '86', '6', '0', '65'],\n",
              "       ['22-10-2017', '181', '100', '6', '8', '0', '65'],\n",
              "       ['23-10-2017', '3158', '200', '99', '5', '0', '65'],\n",
              "       ['24-10-2017', '4383', '200', '143', '4', '0', '64'],\n",
              "       ['25-10-2017', '3881', '200', '125', '5', '0', '64'],\n",
              "       ['26-10-2017', '4037', '200', '129', '6', '0', '64'],\n",
              "       ['27-10-2017', '202', '200', '6', '8', '0', '64'],\n",
              "       ['28-10-2017', '292', '200', '9', '5', '0', '64'],\n",
              "       ['29-10-2017', '330', '300', '10', '6', '0', '64'],\n",
              "       ['30-10-2017', '2209', '200', '72', '5', '0', '64'],\n",
              "       ['31-10-2017', '4550', '300', '150', '8', '500', '64'],\n",
              "       ['01-11-2017', '4435', '300', '141', '5', '0', '64'],\n",
              "       ['02-11-2017', '4779', '300', '156', '4', '0', '64'],\n",
              "       ['03-11-2017', '1831', '300', '57', '5', '0', '64'],\n",
              "       ['04-11-2017', '2255', '300', '72', '4', '0', '64'],\n",
              "       ['05-11-2017', '539', '300', '17', '5', '500', '64'],\n",
              "       ['06-11-2017', '5464', '300', '181', '4', '0', '64'],\n",
              "       ['07-11-2017', '6041', '200', '197', '3', '0', '64'],\n",
              "       ['08-11-2017', '4068', '300', '131', '2', '0', '64'],\n",
              "       ['09-11-2017', '4683', '300', '154', '9', '0', '64'],\n",
              "       ['10-11-2017', '4033', '300', '137', '5', '0', '64'],\n",
              "       ['11-11-2017', '6314', '300', '193', '6', '500', '64'],\n",
              "       ['12-11-2017', '614', '300', '19', '4', '500', '64'],\n",
              "       ['13-11-2017', '3149', '300', '101', '5', '500', '64'],\n",
              "       ['14-11-2017', '4005', '300', '139', '8', '500', '64'],\n",
              "       ['15-11-2017', '4880', '300', '164', '4', '500', '64'],\n",
              "       ['16-11-2017', '4136', '300', '137', '5', '500', '64'],\n",
              "       ['17-11-2017', '705', '300', '22', '6', '500', '64'],\n",
              "       ['18-11-2017', '570', '200', '17', '5', '500', '64'],\n",
              "       ['19-11-2017', '269', '300', '9', '6', '500', '64'],\n",
              "       ['20-11-2017', '4275', '300', '145', '5', '0', '64'],\n",
              "       ['21-11-2017', '5999', '300', '192', '6', '0', '64'],\n",
              "       ['22-11-2017', '4421', '300', '146', '5', '0', '64'],\n",
              "       ['23-11-2017', '6930', '300', '234', '6', '0', '64'],\n",
              "       ['24-11-2017', '5195', '300', '167', '5', '0', '64'],\n",
              "       ['25-11-2017', '546', '300', '16', '6', '0', '64'],\n",
              "       ['26-11-2017', '493', '300', '17', '7', '500', '64'],\n",
              "       ['27-11-2017', '995', '300', '32', '6', '500', '64'],\n",
              "       ['28-11-2017', '1163', '200', '35', '7', '500', '64'],\n",
              "       ['29-11-2017', '6676', '100', '220', '6', '500', '64'],\n",
              "       ['30-11-2017', '3608', '300', '116', '5', '500', '64'],\n",
              "       ['01-12-2017', '774', '300', '23', '6', '500', '64'],\n",
              "       ['02-12-2017', '1421', '300', '44', '7', '500', '64'],\n",
              "       ['03-12-2017', '4064', '300', '131', '8', '500', '64'],\n",
              "       ['04-12-2017', '2725', '300', '86', '8', '500', '64'],\n",
              "       ['05-12-2017', '5934', '300', '194', '7', '500', '64'],\n",
              "       ['06-12-2017', '1867', '300', '60', '8', '500', '64'],\n",
              "       ['07-12-2017', '3721', '100', '121', '5', '500', '64'],\n",
              "       ['08-12-2017', '2374', '200', '76', '4', '0', '64'],\n",
              "       ['09-12-2017', '2909', '200', '93', '3', '500', '64'],\n",
              "       ['10-12-2017', '1648', '100', '53', '3', '500', '64'],\n",
              "       ['11-12-2017', '799', '100', '25', '4', '0', '64'],\n",
              "       ['12-12-2017', '7102', '200', '227', '5', '500', '64'],\n",
              "       ['13-12-2017', '3941', '200', '125', '5', '500', '64'],\n",
              "       ['14-12-2017', '7422', '300', '243', '5', '500', '64'],\n",
              "       ['15-12-2017', '437', '200', '14', '3', '500', '64'],\n",
              "       ['16-12-2017', '1231', '200', '39', '4', '500', '64'],\n",
              "       ['17-12-2017', '1696', '100', '55', '4', '0', '64'],\n",
              "       ['18-12-2017', '4921', '200', '158', '5', '500', '64'],\n",
              "       ['19-12-2017', '221', '100', '7', '5', '500', '64'],\n",
              "       ['20-12-2017', '6500', '200', '213', '5', '500', '64'],\n",
              "       ['21-12-2017', '3575', '200', '116', '5', '500', '64'],\n",
              "       ['22-12-2017', '4061', '100', '129', '5', '0', '64'],\n",
              "       ['23-12-2017', '651', '100', '21', '5', '0', '64'],\n",
              "       ['24-12-2017', '753', '100', '28', '4', '0', '64'],\n",
              "       ['25-12-2017', '518', '100', '16', '3', '0', '64'],\n",
              "       ['26-12-2017', '5537', '300', '180', '4', '500', '64'],\n",
              "       ['27-12-2017', '4108', '200', '138', '5', '500', '64'],\n",
              "       ['28-12-2017', '5376', '300', '176', '5', '500', '64'],\n",
              "       ['29-12-2017', '3066', '200', '99', '4', '500', '64'],\n",
              "       ['30-12-2017', '177', '100', '5', '5', '0', '64'],\n",
              "       ['31-12-2017', '36', '100', '1', '3', '0', '64'],\n",
              "       ['01-01-2018', '299', '100', '10', '3', '0', '64'],\n",
              "       ['02-01-2018', '1447', '200', '47', '3', '0', '64'],\n",
              "       ['03-01-2018', '2599', '200', '84', '2', '0', '64'],\n",
              "       ['04-01-2018', '702', '100', '23', '3', '0', '64'],\n",
              "       ['05-01-2018', '133', '100', '4', '2', '0', '64'],\n",
              "       ['06-01-2018', '153', '300', '0', '8', '0', '64'],\n",
              "       ['07-01-2018', '500', '200', '0', '5', '500', '64'],\n",
              "       ['08-01-2018', '2127', '200', '0', '5', '0', '64'],\n",
              "       ['09-01-2018', '2203', '300', '0', '5', '500', '64']], dtype='<U10')"
            ]
          },
          "metadata": {},
          "execution_count": 61
        }
      ]
    },
    {
      "cell_type": "code",
      "source": [
        "data.T.shape"
      ],
      "metadata": {
        "colab": {
          "base_uri": "https://localhost:8080/"
        },
        "id": "jCx54hUHFuKJ",
        "outputId": "ac3e4aae-3766-481a-985c-606a32bc4091"
      },
      "execution_count": 63,
      "outputs": [
        {
          "output_type": "execute_result",
          "data": {
            "text/plain": [
              "(7, 96)"
            ]
          },
          "metadata": {},
          "execution_count": 63
        }
      ]
    },
    {
      "cell_type": "code",
      "source": [
        "data.dtype"
      ],
      "metadata": {
        "colab": {
          "base_uri": "https://localhost:8080/"
        },
        "id": "doMuUgybFuFu",
        "outputId": "d19777ff-ce9c-40bf-c836-ff723fe33183"
      },
      "execution_count": 64,
      "outputs": [
        {
          "output_type": "execute_result",
          "data": {
            "text/plain": [
              "dtype('<U10')"
            ]
          },
          "metadata": {},
          "execution_count": 64
        }
      ]
    },
    {
      "cell_type": "code",
      "source": [
        "type(data)"
      ],
      "metadata": {
        "colab": {
          "base_uri": "https://localhost:8080/"
        },
        "id": "xS7xic_jFuAh",
        "outputId": "228f6b4f-f6a5-4462-88ee-5bccd8b0a87e"
      },
      "execution_count": 65,
      "outputs": [
        {
          "output_type": "execute_result",
          "data": {
            "text/plain": [
              "numpy.ndarray"
            ]
          },
          "metadata": {},
          "execution_count": 65
        }
      ]
    },
    {
      "cell_type": "code",
      "source": [
        "data[0]"
      ],
      "metadata": {
        "colab": {
          "base_uri": "https://localhost:8080/"
        },
        "id": "T-ioswY0Ft7p",
        "outputId": "b7bfb053-5089-484c-dd96-6c9f5264d58c"
      },
      "execution_count": 68,
      "outputs": [
        {
          "output_type": "execute_result",
          "data": {
            "text/plain": [
              "array(['06-10-2017', '5464', '200', '181', '5', '0', '66'], dtype='<U10')"
            ]
          },
          "metadata": {},
          "execution_count": 68
        }
      ]
    },
    {
      "cell_type": "code",
      "source": [
        "data.T[0]"
      ],
      "metadata": {
        "colab": {
          "base_uri": "https://localhost:8080/"
        },
        "id": "gzbSMk-TFt2Q",
        "outputId": "2ac54725-412a-42a1-f8f2-37e951a26307"
      },
      "execution_count": 69,
      "outputs": [
        {
          "output_type": "execute_result",
          "data": {
            "text/plain": [
              "array(['06-10-2017', '07-10-2017', '08-10-2017', '09-10-2017',\n",
              "       '10-10-2017', '11-10-2017', '12-10-2017', '13-10-2017',\n",
              "       '14-10-2017', '15-10-2017', '16-10-2017', '17-10-2017',\n",
              "       '18-10-2017', '19-10-2017', '20-10-2017', '21-10-2017',\n",
              "       '22-10-2017', '23-10-2017', '24-10-2017', '25-10-2017',\n",
              "       '26-10-2017', '27-10-2017', '28-10-2017', '29-10-2017',\n",
              "       '30-10-2017', '31-10-2017', '01-11-2017', '02-11-2017',\n",
              "       '03-11-2017', '04-11-2017', '05-11-2017', '06-11-2017',\n",
              "       '07-11-2017', '08-11-2017', '09-11-2017', '10-11-2017',\n",
              "       '11-11-2017', '12-11-2017', '13-11-2017', '14-11-2017',\n",
              "       '15-11-2017', '16-11-2017', '17-11-2017', '18-11-2017',\n",
              "       '19-11-2017', '20-11-2017', '21-11-2017', '22-11-2017',\n",
              "       '23-11-2017', '24-11-2017', '25-11-2017', '26-11-2017',\n",
              "       '27-11-2017', '28-11-2017', '29-11-2017', '30-11-2017',\n",
              "       '01-12-2017', '02-12-2017', '03-12-2017', '04-12-2017',\n",
              "       '05-12-2017', '06-12-2017', '07-12-2017', '08-12-2017',\n",
              "       '09-12-2017', '10-12-2017', '11-12-2017', '12-12-2017',\n",
              "       '13-12-2017', '14-12-2017', '15-12-2017', '16-12-2017',\n",
              "       '17-12-2017', '18-12-2017', '19-12-2017', '20-12-2017',\n",
              "       '21-12-2017', '22-12-2017', '23-12-2017', '24-12-2017',\n",
              "       '25-12-2017', '26-12-2017', '27-12-2017', '28-12-2017',\n",
              "       '29-12-2017', '30-12-2017', '31-12-2017', '01-01-2018',\n",
              "       '02-01-2018', '03-01-2018', '04-01-2018', '05-01-2018',\n",
              "       '06-01-2018', '07-01-2018', '08-01-2018', '09-01-2018'],\n",
              "      dtype='<U10')"
            ]
          },
          "metadata": {},
          "execution_count": 69
        }
      ]
    },
    {
      "cell_type": "code",
      "source": [
        "date, step_count, mood, calories_burned, hours_of_sleep, activity_status, weight = data.T"
      ],
      "metadata": {
        "id": "LPkZZ3pnFtwd"
      },
      "execution_count": 70,
      "outputs": []
    },
    {
      "cell_type": "code",
      "source": [
        "date"
      ],
      "metadata": {
        "colab": {
          "base_uri": "https://localhost:8080/"
        },
        "id": "iVx8xhfdFtrm",
        "outputId": "2d59cd1c-e2d4-48e9-dc75-78e202fdf082"
      },
      "execution_count": 71,
      "outputs": [
        {
          "output_type": "execute_result",
          "data": {
            "text/plain": [
              "array(['06-10-2017', '07-10-2017', '08-10-2017', '09-10-2017',\n",
              "       '10-10-2017', '11-10-2017', '12-10-2017', '13-10-2017',\n",
              "       '14-10-2017', '15-10-2017', '16-10-2017', '17-10-2017',\n",
              "       '18-10-2017', '19-10-2017', '20-10-2017', '21-10-2017',\n",
              "       '22-10-2017', '23-10-2017', '24-10-2017', '25-10-2017',\n",
              "       '26-10-2017', '27-10-2017', '28-10-2017', '29-10-2017',\n",
              "       '30-10-2017', '31-10-2017', '01-11-2017', '02-11-2017',\n",
              "       '03-11-2017', '04-11-2017', '05-11-2017', '06-11-2017',\n",
              "       '07-11-2017', '08-11-2017', '09-11-2017', '10-11-2017',\n",
              "       '11-11-2017', '12-11-2017', '13-11-2017', '14-11-2017',\n",
              "       '15-11-2017', '16-11-2017', '17-11-2017', '18-11-2017',\n",
              "       '19-11-2017', '20-11-2017', '21-11-2017', '22-11-2017',\n",
              "       '23-11-2017', '24-11-2017', '25-11-2017', '26-11-2017',\n",
              "       '27-11-2017', '28-11-2017', '29-11-2017', '30-11-2017',\n",
              "       '01-12-2017', '02-12-2017', '03-12-2017', '04-12-2017',\n",
              "       '05-12-2017', '06-12-2017', '07-12-2017', '08-12-2017',\n",
              "       '09-12-2017', '10-12-2017', '11-12-2017', '12-12-2017',\n",
              "       '13-12-2017', '14-12-2017', '15-12-2017', '16-12-2017',\n",
              "       '17-12-2017', '18-12-2017', '19-12-2017', '20-12-2017',\n",
              "       '21-12-2017', '22-12-2017', '23-12-2017', '24-12-2017',\n",
              "       '25-12-2017', '26-12-2017', '27-12-2017', '28-12-2017',\n",
              "       '29-12-2017', '30-12-2017', '31-12-2017', '01-01-2018',\n",
              "       '02-01-2018', '03-01-2018', '04-01-2018', '05-01-2018',\n",
              "       '06-01-2018', '07-01-2018', '08-01-2018', '09-01-2018'],\n",
              "      dtype='<U10')"
            ]
          },
          "metadata": {},
          "execution_count": 71
        }
      ]
    },
    {
      "cell_type": "code",
      "source": [
        "a, b, c = [[1, 2, 3], [4, 5, 6], [7, 8, 9]]"
      ],
      "metadata": {
        "id": "q_Yki0LUFtmr"
      },
      "execution_count": 75,
      "outputs": []
    },
    {
      "cell_type": "code",
      "source": [
        "c"
      ],
      "metadata": {
        "colab": {
          "base_uri": "https://localhost:8080/"
        },
        "id": "rEgANiKXFth2",
        "outputId": "2f9237f1-f562-47a0-dddd-868848d2ae3c"
      },
      "execution_count": 73,
      "outputs": [
        {
          "output_type": "execute_result",
          "data": {
            "text/plain": [
              "[7, 8, 9]"
            ]
          },
          "metadata": {},
          "execution_count": 73
        }
      ]
    },
    {
      "cell_type": "code",
      "source": [
        "step_count.dtype"
      ],
      "metadata": {
        "colab": {
          "base_uri": "https://localhost:8080/"
        },
        "id": "HZFMBTFUFtbF",
        "outputId": "97b7e946-cccd-41fa-ac36-0eea18e22988"
      },
      "execution_count": 76,
      "outputs": [
        {
          "output_type": "execute_result",
          "data": {
            "text/plain": [
              "dtype('<U10')"
            ]
          },
          "metadata": {},
          "execution_count": 76
        }
      ]
    },
    {
      "cell_type": "code",
      "source": [
        "step_count = np.array(step_count, dtype=\"int\")\n",
        "step_count.dtype   # we are converting it int so we can perform math operations"
      ],
      "metadata": {
        "colab": {
          "base_uri": "https://localhost:8080/"
        },
        "id": "TDZOJRaUFtW8",
        "outputId": "840650b5-46ef-4c77-b2a7-01c71abe4fb4"
      },
      "execution_count": 80,
      "outputs": [
        {
          "output_type": "execute_result",
          "data": {
            "text/plain": [
              "dtype('int64')"
            ]
          },
          "metadata": {},
          "execution_count": 80
        }
      ]
    },
    {
      "cell_type": "code",
      "source": [
        "step_count.max()"
      ],
      "metadata": {
        "colab": {
          "base_uri": "https://localhost:8080/"
        },
        "id": "EFlYGY1dH_qk",
        "outputId": "ecd6a39f-cdba-402b-e32e-db82d31f4283"
      },
      "execution_count": 81,
      "outputs": [
        {
          "output_type": "execute_result",
          "data": {
            "text/plain": [
              "7422"
            ]
          },
          "metadata": {},
          "execution_count": 81
        }
      ]
    },
    {
      "cell_type": "code",
      "source": [
        "calories_burned = np.array(calories_burned, dtype = 'int')\n",
        "\n",
        "hours_of_sleep = np.array(hours_of_sleep, dtype = 'int')\n",
        "\n",
        "weight = np.array(weight, dtype = 'int')"
      ],
      "metadata": {
        "id": "z6XTA4MuH_kr"
      },
      "execution_count": 82,
      "outputs": []
    },
    {
      "cell_type": "code",
      "source": [
        "mood  # categorical variable"
      ],
      "metadata": {
        "colab": {
          "base_uri": "https://localhost:8080/"
        },
        "id": "mmtb3rrAH_eI",
        "outputId": "25860173-160b-46d0-e2b9-367b71c31b4e"
      },
      "execution_count": 83,
      "outputs": [
        {
          "output_type": "execute_result",
          "data": {
            "text/plain": [
              "array(['200', '100', '100', '100', '200', '100', '100', '100', '100',\n",
              "       '100', '100', '100', '300', '100', '100', '100', '100', '200',\n",
              "       '200', '200', '200', '200', '200', '300', '200', '300', '300',\n",
              "       '300', '300', '300', '300', '300', '200', '300', '300', '300',\n",
              "       '300', '300', '300', '300', '300', '300', '300', '200', '300',\n",
              "       '300', '300', '300', '300', '300', '300', '300', '300', '200',\n",
              "       '100', '300', '300', '300', '300', '300', '300', '300', '100',\n",
              "       '200', '200', '100', '100', '200', '200', '300', '200', '200',\n",
              "       '100', '200', '100', '200', '200', '100', '100', '100', '100',\n",
              "       '300', '200', '300', '200', '100', '100', '100', '200', '200',\n",
              "       '100', '100', '300', '200', '200', '300'], dtype='<U10')"
            ]
          },
          "metadata": {},
          "execution_count": 83
        }
      ]
    },
    {
      "cell_type": "code",
      "source": [
        "np.unique(mood)"
      ],
      "metadata": {
        "colab": {
          "base_uri": "https://localhost:8080/"
        },
        "id": "-4JFhs8lH_WN",
        "outputId": "963af134-4505-44d5-d208-21a8bb728532"
      },
      "execution_count": 84,
      "outputs": [
        {
          "output_type": "execute_result",
          "data": {
            "text/plain": [
              "array(['100', '200', '300'], dtype='<U10')"
            ]
          },
          "metadata": {},
          "execution_count": 84
        }
      ]
    },
    {
      "cell_type": "code",
      "source": [
        "# 100->Sad, 200->Neurtal, 300-->Happy"
      ],
      "metadata": {
        "id": "ANXOVsNWH_QI"
      },
      "execution_count": 86,
      "outputs": []
    },
    {
      "cell_type": "code",
      "source": [
        "mood[mood == \"100\"]"
      ],
      "metadata": {
        "colab": {
          "base_uri": "https://localhost:8080/"
        },
        "id": "Skw_Qxf7JAUo",
        "outputId": "9af865a8-8d67-4996-8e5b-276e53c086a9"
      },
      "execution_count": 89,
      "outputs": [
        {
          "output_type": "execute_result",
          "data": {
            "text/plain": [
              "array(['100', '100', '100', '100', '100', '100', '100', '100', '100',\n",
              "       '100', '100', '100', '100', '100', '100', '100', '100', '100',\n",
              "       '100', '100', '100', '100', '100', '100', '100', '100', '100',\n",
              "       '100', '100'], dtype='<U10')"
            ]
          },
          "metadata": {},
          "execution_count": 89
        }
      ]
    },
    {
      "cell_type": "code",
      "source": [
        "mood[mood == \"100\"] = \"sad\""
      ],
      "metadata": {
        "id": "_NuokMWcJAEe"
      },
      "execution_count": 92,
      "outputs": []
    },
    {
      "cell_type": "code",
      "source": [
        "mood[mood == \"200\"] = \"Neutral\"\n",
        "mood[mood == \"300\"] = \"Happy\"\n"
      ],
      "metadata": {
        "id": "EXECxYShJj3m"
      },
      "execution_count": 95,
      "outputs": []
    },
    {
      "cell_type": "code",
      "source": [
        "mood  # data-munging, data-manipulation, data-cleaning"
      ],
      "metadata": {
        "colab": {
          "base_uri": "https://localhost:8080/"
        },
        "id": "9Yl55uJSH_G6",
        "outputId": "e4ad97a1-aaf4-4d2c-b375-561260e1f530"
      },
      "execution_count": 96,
      "outputs": [
        {
          "output_type": "execute_result",
          "data": {
            "text/plain": [
              "array(['Neutral', 'sad', 'sad', 'sad', 'Neutral', 'sad', 'sad', 'sad',\n",
              "       'sad', 'sad', 'sad', 'sad', 'Happy', 'sad', 'sad', 'sad', 'sad',\n",
              "       'Neutral', 'Neutral', 'Neutral', 'Neutral', 'Neutral', 'Neutral',\n",
              "       'Happy', 'Neutral', 'Happy', 'Happy', 'Happy', 'Happy', 'Happy',\n",
              "       'Happy', 'Happy', 'Neutral', 'Happy', 'Happy', 'Happy', 'Happy',\n",
              "       'Happy', 'Happy', 'Happy', 'Happy', 'Happy', 'Happy', 'Neutral',\n",
              "       'Happy', 'Happy', 'Happy', 'Happy', 'Happy', 'Happy', 'Happy',\n",
              "       'Happy', 'Happy', 'Neutral', 'sad', 'Happy', 'Happy', 'Happy',\n",
              "       'Happy', 'Happy', 'Happy', 'Happy', 'sad', 'Neutral', 'Neutral',\n",
              "       'sad', 'sad', 'Neutral', 'Neutral', 'Happy', 'Neutral', 'Neutral',\n",
              "       'sad', 'Neutral', 'sad', 'Neutral', 'Neutral', 'sad', 'sad', 'sad',\n",
              "       'sad', 'Happy', 'Neutral', 'Happy', 'Neutral', 'sad', 'sad', 'sad',\n",
              "       'Neutral', 'Neutral', 'sad', 'sad', 'Happy', 'Neutral', 'Neutral',\n",
              "       'Happy'], dtype='<U10')"
            ]
          },
          "metadata": {},
          "execution_count": 96
        }
      ]
    },
    {
      "cell_type": "code",
      "source": [
        "np.unique(mood)"
      ],
      "metadata": {
        "colab": {
          "base_uri": "https://localhost:8080/"
        },
        "id": "0CrqkO-UH_AO",
        "outputId": "c781ae21-7bc8-4226-e6ac-f3f7acdb9d3e"
      },
      "execution_count": 97,
      "outputs": [
        {
          "output_type": "execute_result",
          "data": {
            "text/plain": [
              "array(['Happy', 'Neutral', 'sad'], dtype='<U10')"
            ]
          },
          "metadata": {},
          "execution_count": 97
        }
      ]
    },
    {
      "cell_type": "code",
      "source": [
        "activity_status"
      ],
      "metadata": {
        "colab": {
          "base_uri": "https://localhost:8080/"
        },
        "id": "hxbRFbtjH-6S",
        "outputId": "ccf85e67-9621-4dc2-83e6-80cc910f2c28"
      },
      "execution_count": 98,
      "outputs": [
        {
          "output_type": "execute_result",
          "data": {
            "text/plain": [
              "array(['0', '0', '0', '0', '500', '0', '0', '0', '0', '0', '0', '0',\n",
              "       '500', '0', '0', '0', '0', '0', '0', '0', '0', '0', '0', '0', '0',\n",
              "       '500', '0', '0', '0', '0', '500', '0', '0', '0', '0', '0', '500',\n",
              "       '500', '500', '500', '500', '500', '500', '500', '500', '0', '0',\n",
              "       '0', '0', '0', '0', '500', '500', '500', '500', '500', '500',\n",
              "       '500', '500', '500', '500', '500', '500', '0', '500', '500', '0',\n",
              "       '500', '500', '500', '500', '500', '0', '500', '500', '500', '500',\n",
              "       '0', '0', '0', '0', '500', '500', '500', '500', '0', '0', '0', '0',\n",
              "       '0', '0', '0', '0', '500', '0', '500'], dtype='<U10')"
            ]
          },
          "metadata": {},
          "execution_count": 98
        }
      ]
    },
    {
      "cell_type": "code",
      "source": [
        "activity_status[activity_status == '500'] = 'Active'\n",
        "activity_status[activity_status == '0'] = 'Inactive'"
      ],
      "metadata": {
        "id": "MQ_qNIz6H-0r"
      },
      "execution_count": 99,
      "outputs": []
    },
    {
      "cell_type": "code",
      "source": [
        "activity_status"
      ],
      "metadata": {
        "colab": {
          "base_uri": "https://localhost:8080/"
        },
        "id": "0sNkOlsnH-u8",
        "outputId": "b277d978-4533-437b-abfe-5d8e8dd0c87d"
      },
      "execution_count": 100,
      "outputs": [
        {
          "output_type": "execute_result",
          "data": {
            "text/plain": [
              "array(['Inactive', 'Inactive', 'Inactive', 'Inactive', 'Active',\n",
              "       'Inactive', 'Inactive', 'Inactive', 'Inactive', 'Inactive',\n",
              "       'Inactive', 'Inactive', 'Active', 'Inactive', 'Inactive',\n",
              "       'Inactive', 'Inactive', 'Inactive', 'Inactive', 'Inactive',\n",
              "       'Inactive', 'Inactive', 'Inactive', 'Inactive', 'Inactive',\n",
              "       'Active', 'Inactive', 'Inactive', 'Inactive', 'Inactive', 'Active',\n",
              "       'Inactive', 'Inactive', 'Inactive', 'Inactive', 'Inactive',\n",
              "       'Active', 'Active', 'Active', 'Active', 'Active', 'Active',\n",
              "       'Active', 'Active', 'Active', 'Inactive', 'Inactive', 'Inactive',\n",
              "       'Inactive', 'Inactive', 'Inactive', 'Active', 'Active', 'Active',\n",
              "       'Active', 'Active', 'Active', 'Active', 'Active', 'Active',\n",
              "       'Active', 'Active', 'Active', 'Inactive', 'Active', 'Active',\n",
              "       'Inactive', 'Active', 'Active', 'Active', 'Active', 'Active',\n",
              "       'Inactive', 'Active', 'Active', 'Active', 'Active', 'Inactive',\n",
              "       'Inactive', 'Inactive', 'Inactive', 'Active', 'Active', 'Active',\n",
              "       'Active', 'Inactive', 'Inactive', 'Inactive', 'Inactive',\n",
              "       'Inactive', 'Inactive', 'Inactive', 'Inactive', 'Active',\n",
              "       'Inactive', 'Active'], dtype='<U10')"
            ]
          },
          "metadata": {},
          "execution_count": 100
        }
      ]
    },
    {
      "cell_type": "code",
      "source": [
        "# insights from the data"
      ],
      "metadata": {
        "id": "rR9mtzP2H-pI"
      },
      "execution_count": null,
      "outputs": []
    },
    {
      "cell_type": "code",
      "source": [
        "# what is the average step count - step_count\n",
        "np.mean(step_count)"
      ],
      "metadata": {
        "colab": {
          "base_uri": "https://localhost:8080/"
        },
        "id": "ggL7t81kH-jp",
        "outputId": "64d4d53c-738e-4ff6-b50f-ec575d0883aa"
      },
      "execution_count": 102,
      "outputs": [
        {
          "output_type": "execute_result",
          "data": {
            "text/plain": [
              "2935.9375"
            ]
          },
          "metadata": {},
          "execution_count": 102
        }
      ]
    },
    {
      "cell_type": "code",
      "source": [
        "# On which date the step count was highest? step_count, date"
      ],
      "metadata": {
        "id": "zUoeRdXSH-db"
      },
      "execution_count": null,
      "outputs": []
    },
    {
      "cell_type": "code",
      "source": [
        "date[np.argmax(step_count)]"
      ],
      "metadata": {
        "colab": {
          "base_uri": "https://localhost:8080/",
          "height": 35
        },
        "id": "VjVryj-0H-X9",
        "outputId": "b2de57d7-e90c-42dd-d00b-3641594dd8b8"
      },
      "execution_count": 106,
      "outputs": [
        {
          "output_type": "execute_result",
          "data": {
            "text/plain": [
              "'14-12-2017'"
            ],
            "application/vnd.google.colaboratory.intrinsic+json": {
              "type": "string"
            }
          },
          "metadata": {},
          "execution_count": 106
        }
      ]
    },
    {
      "cell_type": "code",
      "source": [
        "# What is the most frequent mood? ---> if given counts of all the mood, calculate most frequent"
      ],
      "metadata": {
        "colab": {
          "base_uri": "https://localhost:8080/"
        },
        "id": "Dh2Kz1MVH-So",
        "outputId": "79e0df4c-def1-40fd-8811-c2a434a3d62b"
      },
      "execution_count": 105,
      "outputs": [
        {
          "output_type": "execute_result",
          "data": {
            "text/plain": [
              "7422"
            ]
          },
          "metadata": {},
          "execution_count": 105
        }
      ]
    },
    {
      "cell_type": "code",
      "source": [
        "len(mood[mood == \"sad\"])"
      ],
      "metadata": {
        "colab": {
          "base_uri": "https://localhost:8080/"
        },
        "id": "dIV9MKl7H-NQ",
        "outputId": "bce54343-b071-4dd8-df39-3762142ab3ae"
      },
      "execution_count": 124,
      "outputs": [
        {
          "output_type": "execute_result",
          "data": {
            "text/plain": [
              "29"
            ]
          },
          "metadata": {},
          "execution_count": 124
        }
      ]
    },
    {
      "cell_type": "code",
      "source": [
        "len(mood[mood == \"Happy\"])"
      ],
      "metadata": {
        "colab": {
          "base_uri": "https://localhost:8080/"
        },
        "id": "SY-RPzk_H-IG",
        "outputId": "53e2ca57-4710-4aa4-e26b-86bff84950d1"
      },
      "execution_count": 108,
      "outputs": [
        {
          "output_type": "execute_result",
          "data": {
            "text/plain": [
              "40"
            ]
          },
          "metadata": {},
          "execution_count": 108
        }
      ]
    },
    {
      "cell_type": "code",
      "source": [
        "len(mood[mood == \"Neutral\"])"
      ],
      "metadata": {
        "colab": {
          "base_uri": "https://localhost:8080/"
        },
        "id": "X813e-odH-Ct",
        "outputId": "ace9e1a7-9d31-46ae-9849-f628e19e1726"
      },
      "execution_count": 109,
      "outputs": [
        {
          "output_type": "execute_result",
          "data": {
            "text/plain": [
              "27"
            ]
          },
          "metadata": {},
          "execution_count": 109
        }
      ]
    },
    {
      "cell_type": "code",
      "source": [
        "np.unique(mood, return_counts = True)"
      ],
      "metadata": {
        "colab": {
          "base_uri": "https://localhost:8080/"
        },
        "id": "F7zd_PfWH99V",
        "outputId": "68f15426-2483-4b82-94b4-09ead42e7624"
      },
      "execution_count": 110,
      "outputs": [
        {
          "output_type": "execute_result",
          "data": {
            "text/plain": [
              "(array(['Happy', 'Neutral', 'sad'], dtype='<U10'), array([40, 27, 29]))"
            ]
          },
          "metadata": {},
          "execution_count": 110
        }
      ]
    },
    {
      "cell_type": "code",
      "source": [
        "# Does the step_count changes with mood?"
      ],
      "metadata": {
        "id": "r-vb0lBHH94M"
      },
      "execution_count": null,
      "outputs": []
    },
    {
      "cell_type": "code",
      "source": [
        "np.mean(step_count[mood == \"Neutral\"])"
      ],
      "metadata": {
        "colab": {
          "base_uri": "https://localhost:8080/"
        },
        "id": "NuJpMUhmH9yv",
        "outputId": "28ee57e0-5874-47cc-d336-f5b21aac35f7"
      },
      "execution_count": 121,
      "outputs": [
        {
          "output_type": "execute_result",
          "data": {
            "text/plain": [
              "3153.777777777778"
            ]
          },
          "metadata": {},
          "execution_count": 121
        }
      ]
    },
    {
      "cell_type": "code",
      "source": [
        "np.mean(step_count[mood == \"sad\"])"
      ],
      "metadata": {
        "colab": {
          "base_uri": "https://localhost:8080/"
        },
        "id": "Z2QSfKTIH9q2",
        "outputId": "7e42c524-30b6-4ccb-b2b9-2a83e0c0c196"
      },
      "execution_count": 125,
      "outputs": [
        {
          "output_type": "execute_result",
          "data": {
            "text/plain": [
              "2103.0689655172414"
            ]
          },
          "metadata": {},
          "execution_count": 125
        }
      ]
    },
    {
      "cell_type": "code",
      "source": [
        "np.mean(step_count[mood == \"Happy\"])"
      ],
      "metadata": {
        "colab": {
          "base_uri": "https://localhost:8080/"
        },
        "id": "3gBmWF3AH9k2",
        "outputId": "fa978e1a-acd0-4e71-82e6-d1c33039992a"
      },
      "execution_count": 126,
      "outputs": [
        {
          "output_type": "execute_result",
          "data": {
            "text/plain": [
              "3392.725"
            ]
          },
          "metadata": {},
          "execution_count": 126
        }
      ]
    },
    {
      "cell_type": "code",
      "source": [
        "np.unique(mood[step_count < 500], return_counts = True)"
      ],
      "metadata": {
        "colab": {
          "base_uri": "https://localhost:8080/"
        },
        "id": "Ce8u-VeKH9gA",
        "outputId": "3249f4fe-b954-4827-d21e-53b13a043224"
      },
      "execution_count": 132,
      "outputs": [
        {
          "output_type": "execute_result",
          "data": {
            "text/plain": [
              "(array(['Happy', 'Neutral', 'sad'], dtype='<U10'), array([4, 3, 8]))"
            ]
          },
          "metadata": {},
          "execution_count": 132
        }
      ]
    },
    {
      "cell_type": "code",
      "source": [
        "# Operations on arrays in Numpy"
      ],
      "metadata": {
        "id": "pPXDXA-6H9bI"
      },
      "execution_count": null,
      "outputs": []
    },
    {
      "cell_type": "code",
      "source": [
        "m1 = np.arange(12).reshape(3, 4)\n",
        "m1"
      ],
      "metadata": {
        "colab": {
          "base_uri": "https://localhost:8080/"
        },
        "id": "VXuc6tKXH9Vo",
        "outputId": "3106bf10-47e9-491b-cd0d-ffa8eae8fbbb"
      },
      "execution_count": 133,
      "outputs": [
        {
          "output_type": "execute_result",
          "data": {
            "text/plain": [
              "array([[ 0,  1,  2,  3],\n",
              "       [ 4,  5,  6,  7],\n",
              "       [ 8,  9, 10, 11]])"
            ]
          },
          "metadata": {},
          "execution_count": 133
        }
      ]
    },
    {
      "cell_type": "code",
      "source": [
        "m1 + 2"
      ],
      "metadata": {
        "colab": {
          "base_uri": "https://localhost:8080/"
        },
        "id": "V8dD52PPNHC-",
        "outputId": "3a261cb0-863c-4cc6-9b0d-fd9436369f6b"
      },
      "execution_count": 134,
      "outputs": [
        {
          "output_type": "execute_result",
          "data": {
            "text/plain": [
              "array([[ 2,  3,  4,  5],\n",
              "       [ 6,  7,  8,  9],\n",
              "       [10, 11, 12, 13]])"
            ]
          },
          "metadata": {},
          "execution_count": 134
        }
      ]
    },
    {
      "cell_type": "code",
      "source": [
        "m1 * 2"
      ],
      "metadata": {
        "colab": {
          "base_uri": "https://localhost:8080/"
        },
        "id": "gobnAcSCNGzZ",
        "outputId": "b4afff77-03c8-4d05-f47e-72fafbd8937c"
      },
      "execution_count": 135,
      "outputs": [
        {
          "output_type": "execute_result",
          "data": {
            "text/plain": [
              "array([[ 0,  2,  4,  6],\n",
              "       [ 8, 10, 12, 14],\n",
              "       [16, 18, 20, 22]])"
            ]
          },
          "metadata": {},
          "execution_count": 135
        }
      ]
    },
    {
      "cell_type": "code",
      "source": [
        "a = np.array([1, 2, 3])\n",
        "b = np.array([4, 5, 7])\n",
        "a+b   # element wise addition"
      ],
      "metadata": {
        "colab": {
          "base_uri": "https://localhost:8080/"
        },
        "id": "QcndbvmHNGqY",
        "outputId": "8cdd61a5-ecba-4b1f-dceb-06a284a32ee5"
      },
      "execution_count": 136,
      "outputs": [
        {
          "output_type": "execute_result",
          "data": {
            "text/plain": [
              "array([ 5,  7, 10])"
            ]
          },
          "metadata": {},
          "execution_count": 136
        }
      ]
    },
    {
      "cell_type": "code",
      "source": [
        "a*b"
      ],
      "metadata": {
        "colab": {
          "base_uri": "https://localhost:8080/"
        },
        "id": "HKZVeOY4NGio",
        "outputId": "634dd644-7a30-48db-c53e-a52d6547f60c"
      },
      "execution_count": 137,
      "outputs": [
        {
          "output_type": "execute_result",
          "data": {
            "text/plain": [
              "array([ 4, 10, 21])"
            ]
          },
          "metadata": {},
          "execution_count": 137
        }
      ]
    },
    {
      "cell_type": "code",
      "source": [
        "a = np.array([0,2,3])\n",
        "b = np.array([1,3,5])\n",
        "a >= b"
      ],
      "metadata": {
        "colab": {
          "base_uri": "https://localhost:8080/"
        },
        "id": "9-ym12fsNGam",
        "outputId": "901c0d98-f7a9-45c9-92f5-c6e7a7a5ad4d"
      },
      "execution_count": 138,
      "outputs": [
        {
          "output_type": "execute_result",
          "data": {
            "text/plain": [
              "array([False, False, False])"
            ]
          },
          "metadata": {},
          "execution_count": 138
        }
      ]
    },
    {
      "cell_type": "code",
      "source": [
        "A = np.arange(12).reshape(3,4)\n",
        "B = np.arange(12).reshape(3,4)"
      ],
      "metadata": {
        "id": "B7IRBShlH9P2"
      },
      "execution_count": 139,
      "outputs": []
    },
    {
      "cell_type": "code",
      "source": [
        "A*B # not matrix multiplication"
      ],
      "metadata": {
        "colab": {
          "base_uri": "https://localhost:8080/"
        },
        "id": "QC5y47kiNgDu",
        "outputId": "404b75fa-97bf-4983-c443-5fcee66c2fb4"
      },
      "execution_count": 140,
      "outputs": [
        {
          "output_type": "execute_result",
          "data": {
            "text/plain": [
              "array([[  0,   1,   4,   9],\n",
              "       [ 16,  25,  36,  49],\n",
              "       [ 64,  81, 100, 121]])"
            ]
          },
          "metadata": {},
          "execution_count": 140
        }
      ]
    },
    {
      "cell_type": "code",
      "source": [
        "# (x1, y1) (x2, y2) matrix multiplication condition y1 == x2"
      ],
      "metadata": {
        "id": "u-8D8V0vNf9j"
      },
      "execution_count": null,
      "outputs": []
    },
    {
      "cell_type": "code",
      "source": [
        "B = B.reshape(4, 3)"
      ],
      "metadata": {
        "id": "9DR3oQAfNf3e"
      },
      "execution_count": 141,
      "outputs": []
    },
    {
      "cell_type": "code",
      "source": [
        "B\n"
      ],
      "metadata": {
        "colab": {
          "base_uri": "https://localhost:8080/"
        },
        "id": "9ByWjlGfNfvS",
        "outputId": "44b54383-a015-47ab-fdb2-3cd0d5a0124c"
      },
      "execution_count": 145,
      "outputs": [
        {
          "output_type": "execute_result",
          "data": {
            "text/plain": [
              "array([[ 0,  1,  2],\n",
              "       [ 3,  4,  5],\n",
              "       [ 6,  7,  8],\n",
              "       [ 9, 10, 11]])"
            ]
          },
          "metadata": {},
          "execution_count": 145
        }
      ]
    },
    {
      "cell_type": "code",
      "source": [
        "A"
      ],
      "metadata": {
        "colab": {
          "base_uri": "https://localhost:8080/"
        },
        "id": "LxWD-OgzNfnr",
        "outputId": "863ddb9c-483a-4379-84af-43ff1ab52b9e"
      },
      "execution_count": 143,
      "outputs": [
        {
          "output_type": "execute_result",
          "data": {
            "text/plain": [
              "array([[ 0,  1,  2,  3],\n",
              "       [ 4,  5,  6,  7],\n",
              "       [ 8,  9, 10, 11]])"
            ]
          },
          "metadata": {},
          "execution_count": 143
        }
      ]
    },
    {
      "cell_type": "code",
      "source": [
        "A * B # (4, 3) (3, 4) y1 == x2\n",
        "# this doesn't work because this is not matrix multiplication\n",
        "# we are operating on shapes here"
      ],
      "metadata": {
        "colab": {
          "base_uri": "https://localhost:8080/",
          "height": 183
        },
        "id": "ejix6jlhOToz",
        "outputId": "5669e19f-edcd-46cf-c085-46a2c573ddd4"
      },
      "execution_count": 146,
      "outputs": [
        {
          "output_type": "error",
          "ename": "ValueError",
          "evalue": "ignored",
          "traceback": [
            "\u001b[0;31m---------------------------------------------------------------------------\u001b[0m",
            "\u001b[0;31mValueError\u001b[0m                                Traceback (most recent call last)",
            "\u001b[0;32m<ipython-input-146-927f8939472b>\u001b[0m in \u001b[0;36m<cell line: 1>\u001b[0;34m()\u001b[0m\n\u001b[0;32m----> 1\u001b[0;31m \u001b[0mA\u001b[0m \u001b[0;34m*\u001b[0m \u001b[0mB\u001b[0m \u001b[0;31m# (4, 3) (3, 4) y1 == x2\u001b[0m\u001b[0;34m\u001b[0m\u001b[0;34m\u001b[0m\u001b[0m\n\u001b[0m\u001b[1;32m      2\u001b[0m \u001b[0;31m# this doesn't work because this is not matrix multiplication\u001b[0m\u001b[0;34m\u001b[0m\u001b[0;34m\u001b[0m\u001b[0m\n",
            "\u001b[0;31mValueError\u001b[0m: operands could not be broadcast together with shapes (3,4) (4,3) "
          ]
        }
      ]
    },
    {
      "cell_type": "code",
      "source": [
        "np.matmul(A, B)  # matirx multiplication"
      ],
      "metadata": {
        "colab": {
          "base_uri": "https://localhost:8080/"
        },
        "id": "hDW-1i-9OThz",
        "outputId": "e79610ba-6749-4f6d-bf7a-f41063059cd5"
      },
      "execution_count": 147,
      "outputs": [
        {
          "output_type": "execute_result",
          "data": {
            "text/plain": [
              "array([[ 42,  48,  54],\n",
              "       [114, 136, 158],\n",
              "       [186, 224, 262]])"
            ]
          },
          "metadata": {},
          "execution_count": 147
        }
      ]
    },
    {
      "cell_type": "code",
      "source": [
        "A @ B # matirx multiplication"
      ],
      "metadata": {
        "colab": {
          "base_uri": "https://localhost:8080/"
        },
        "id": "ULNn_4glOTaJ",
        "outputId": "3b8d5782-5a8b-4e42-f831-722b4ce4313e"
      },
      "execution_count": 148,
      "outputs": [
        {
          "output_type": "execute_result",
          "data": {
            "text/plain": [
              "array([[ 42,  48,  54],\n",
              "       [114, 136, 158],\n",
              "       [186, 224, 262]])"
            ]
          },
          "metadata": {},
          "execution_count": 148
        }
      ]
    },
    {
      "cell_type": "code",
      "source": [
        "np.dot(A, B) # dot product works only with same no of elements"
      ],
      "metadata": {
        "colab": {
          "base_uri": "https://localhost:8080/"
        },
        "id": "oybtxnxoOTUA",
        "outputId": "d75e4bf8-5b32-4647-f9b5-3aa53e4efaa2"
      },
      "execution_count": 149,
      "outputs": [
        {
          "output_type": "execute_result",
          "data": {
            "text/plain": [
              "array([[ 42,  48,  54],\n",
              "       [114, 136, 158],\n",
              "       [186, 224, 262]])"
            ]
          },
          "metadata": {},
          "execution_count": 149
        }
      ]
    },
    {
      "cell_type": "code",
      "source": [
        "a= np.array([1,2,3])\n",
        "b = np.array([1,1,1])\n",
        "np.dot(a, b)"
      ],
      "metadata": {
        "colab": {
          "base_uri": "https://localhost:8080/"
        },
        "id": "s9_AjbaFOTN-",
        "outputId": "66dfcf53-5cf5-49aa-b9b2-64ce8f32f542"
      },
      "execution_count": 153,
      "outputs": [
        {
          "output_type": "execute_result",
          "data": {
            "text/plain": [
              "6"
            ]
          },
          "metadata": {},
          "execution_count": 153
        }
      ]
    },
    {
      "cell_type": "code",
      "source": [
        "k = np.array([[1], [2]])\n",
        "z = np.array([2])\n",
        "np.dot(k, z)"
      ],
      "metadata": {
        "colab": {
          "base_uri": "https://localhost:8080/"
        },
        "id": "RnCpRi8qOTHu",
        "outputId": "721d6236-29f3-4ce1-bca0-40a8a91b9555"
      },
      "execution_count": 152,
      "outputs": [
        {
          "output_type": "execute_result",
          "data": {
            "text/plain": [
              "array([2, 4])"
            ]
          },
          "metadata": {},
          "execution_count": 152
        }
      ]
    },
    {
      "cell_type": "code",
      "source": [
        "A * 2 # Vectorisation"
      ],
      "metadata": {
        "colab": {
          "base_uri": "https://localhost:8080/"
        },
        "id": "HmWTjzCROTBO",
        "outputId": "f8a53219-cbe3-40d1-8cb3-bd485b12912a"
      },
      "execution_count": 154,
      "outputs": [
        {
          "output_type": "execute_result",
          "data": {
            "text/plain": [
              "array([[ 0,  2,  4,  6],\n",
              "       [ 8, 10, 12, 14],\n",
              "       [16, 18, 20, 22]])"
            ]
          },
          "metadata": {},
          "execution_count": 154
        }
      ]
    },
    {
      "cell_type": "code",
      "source": [
        "# unfuncs provided by numpy"
      ],
      "metadata": {
        "id": "rkmrbejBOS6X"
      },
      "execution_count": null,
      "outputs": []
    },
    {
      "cell_type": "code",
      "source": [
        "np.log(np.arange(1, 100))"
      ],
      "metadata": {
        "colab": {
          "base_uri": "https://localhost:8080/"
        },
        "id": "aziyot9KNfgp",
        "outputId": "f51ba3f5-ee14-4f11-9950-c2987a0d3699"
      },
      "execution_count": 158,
      "outputs": [
        {
          "output_type": "execute_result",
          "data": {
            "text/plain": [
              "array([0.        , 0.69314718, 1.09861229, 1.38629436, 1.60943791,\n",
              "       1.79175947, 1.94591015, 2.07944154, 2.19722458, 2.30258509,\n",
              "       2.39789527, 2.48490665, 2.56494936, 2.63905733, 2.7080502 ,\n",
              "       2.77258872, 2.83321334, 2.89037176, 2.94443898, 2.99573227,\n",
              "       3.04452244, 3.09104245, 3.13549422, 3.17805383, 3.21887582,\n",
              "       3.25809654, 3.29583687, 3.33220451, 3.36729583, 3.40119738,\n",
              "       3.4339872 , 3.4657359 , 3.49650756, 3.52636052, 3.55534806,\n",
              "       3.58351894, 3.61091791, 3.63758616, 3.66356165, 3.68887945,\n",
              "       3.71357207, 3.73766962, 3.76120012, 3.78418963, 3.80666249,\n",
              "       3.8286414 , 3.8501476 , 3.87120101, 3.8918203 , 3.91202301,\n",
              "       3.93182563, 3.95124372, 3.97029191, 3.98898405, 4.00733319,\n",
              "       4.02535169, 4.04305127, 4.06044301, 4.07753744, 4.09434456,\n",
              "       4.11087386, 4.12713439, 4.14313473, 4.15888308, 4.17438727,\n",
              "       4.18965474, 4.20469262, 4.21950771, 4.2341065 , 4.24849524,\n",
              "       4.26267988, 4.27666612, 4.29045944, 4.30406509, 4.31748811,\n",
              "       4.33073334, 4.34380542, 4.35670883, 4.36944785, 4.38202663,\n",
              "       4.39444915, 4.40671925, 4.41884061, 4.4308168 , 4.44265126,\n",
              "       4.4543473 , 4.46590812, 4.47733681, 4.48863637, 4.49980967,\n",
              "       4.51085951, 4.52178858, 4.53259949, 4.54329478, 4.55387689,\n",
              "       4.56434819, 4.57471098, 4.58496748, 4.59511985])"
            ]
          },
          "metadata": {},
          "execution_count": 158
        }
      ]
    },
    {
      "cell_type": "code",
      "source": [
        "import math"
      ],
      "metadata": {
        "id": "GIhJ0BqPQ9jL"
      },
      "execution_count": 155,
      "outputs": []
    },
    {
      "cell_type": "code",
      "source": [
        "math.log(10)"
      ],
      "metadata": {
        "colab": {
          "base_uri": "https://localhost:8080/"
        },
        "id": "ejIq79GNQ9ar",
        "outputId": "d30169d6-d750-4250-c80f-91b1416003e9"
      },
      "execution_count": 156,
      "outputs": [
        {
          "output_type": "execute_result",
          "data": {
            "text/plain": [
              "2.302585092994046"
            ]
          },
          "metadata": {},
          "execution_count": 156
        }
      ]
    },
    {
      "cell_type": "code",
      "source": [
        "math.log([1, 2, 3])"
      ],
      "metadata": {
        "colab": {
          "base_uri": "https://localhost:8080/",
          "height": 165
        },
        "id": "Gumnkt4BQ9Dd",
        "outputId": "2cee0341-a73e-424b-9994-21a4e5035cec"
      },
      "execution_count": 157,
      "outputs": [
        {
          "output_type": "error",
          "ename": "TypeError",
          "evalue": "ignored",
          "traceback": [
            "\u001b[0;31m---------------------------------------------------------------------------\u001b[0m",
            "\u001b[0;31mTypeError\u001b[0m                                 Traceback (most recent call last)",
            "\u001b[0;32m<ipython-input-157-86abfb51f245>\u001b[0m in \u001b[0;36m<cell line: 1>\u001b[0;34m()\u001b[0m\n\u001b[0;32m----> 1\u001b[0;31m \u001b[0mmath\u001b[0m\u001b[0;34m.\u001b[0m\u001b[0mlog\u001b[0m\u001b[0;34m(\u001b[0m\u001b[0;34m[\u001b[0m\u001b[0;36m1\u001b[0m\u001b[0;34m,\u001b[0m \u001b[0;36m2\u001b[0m\u001b[0;34m,\u001b[0m \u001b[0;36m3\u001b[0m\u001b[0;34m]\u001b[0m\u001b[0;34m)\u001b[0m\u001b[0;34m\u001b[0m\u001b[0;34m\u001b[0m\u001b[0m\n\u001b[0m",
            "\u001b[0;31mTypeError\u001b[0m: must be real number, not list"
          ]
        }
      ]
    },
    {
      "cell_type": "code",
      "source": [
        "np_log = np.vectorize(math.log)  # converted into a universal function"
      ],
      "metadata": {
        "id": "C8JjoBALQ889"
      },
      "execution_count": 159,
      "outputs": []
    },
    {
      "cell_type": "code",
      "source": [
        "np_log(np.arange(1, 100, 10))"
      ],
      "metadata": {
        "colab": {
          "base_uri": "https://localhost:8080/"
        },
        "id": "V89cR2WtRMMM",
        "outputId": "020a9835-634f-487c-bc0e-2e1708dd9a46"
      },
      "execution_count": 160,
      "outputs": [
        {
          "output_type": "execute_result",
          "data": {
            "text/plain": [
              "array([0.        , 2.39789527, 3.04452244, 3.4339872 , 3.71357207,\n",
              "       3.93182563, 4.11087386, 4.26267988, 4.39444915, 4.51085951])"
            ]
          },
          "metadata": {},
          "execution_count": 160
        }
      ]
    },
    {
      "cell_type": "code",
      "source": [
        "# Broadcasting -\n",
        "# where elements are repeated, so numpy operations can be performed"
      ],
      "metadata": {
        "id": "RPAuaOqpRL_1"
      },
      "execution_count": null,
      "outputs": []
    },
    {
      "cell_type": "code",
      "source": [
        "a = np.tile(np.arange(0, 40, 10), (3, 1))\n",
        "# repeats data in said dimension"
      ],
      "metadata": {
        "id": "eGCBUzOERL5-"
      },
      "execution_count": 161,
      "outputs": []
    },
    {
      "cell_type": "code",
      "source": [
        "a"
      ],
      "metadata": {
        "colab": {
          "base_uri": "https://localhost:8080/"
        },
        "id": "PItjqvvZRLzI",
        "outputId": "834255a1-8f40-44c7-ef46-63ddc92e14a1"
      },
      "execution_count": 162,
      "outputs": [
        {
          "output_type": "execute_result",
          "data": {
            "text/plain": [
              "array([[ 0, 10, 20, 30],\n",
              "       [ 0, 10, 20, 30],\n",
              "       [ 0, 10, 20, 30]])"
            ]
          },
          "metadata": {},
          "execution_count": 162
        }
      ]
    },
    {
      "cell_type": "code",
      "source": [
        "a = np.tile(np.arange(0, 40, 10), (2, 2))\n",
        "a\n"
      ],
      "metadata": {
        "colab": {
          "base_uri": "https://localhost:8080/"
        },
        "id": "NRuMH8djSTr0",
        "outputId": "170d74a4-518f-4beb-faad-20ca2ef6c7ac"
      },
      "execution_count": 164,
      "outputs": [
        {
          "output_type": "execute_result",
          "data": {
            "text/plain": [
              "array([[ 0, 10, 20, 30,  0, 10, 20, 30],\n",
              "       [ 0, 10, 20, 30,  0, 10, 20, 30]])"
            ]
          },
          "metadata": {},
          "execution_count": 164
        }
      ]
    },
    {
      "cell_type": "code",
      "source": [
        "a = np.arange(0, 4)\n",
        "b = np.arange(12).reshape(3, 4)"
      ],
      "metadata": {
        "id": "EK6ojExvSThe"
      },
      "execution_count": 165,
      "outputs": []
    },
    {
      "cell_type": "code",
      "source": [
        "print(a.shape, b.shape)"
      ],
      "metadata": {
        "colab": {
          "base_uri": "https://localhost:8080/"
        },
        "id": "_TG6WJqrSTaQ",
        "outputId": "dcada56e-ffa3-4afd-e95e-5f14ad40357c"
      },
      "execution_count": 166,
      "outputs": [
        {
          "output_type": "stream",
          "name": "stdout",
          "text": [
            "(4,) (3, 4)\n"
          ]
        }
      ]
    },
    {
      "cell_type": "code",
      "source": [
        "a"
      ],
      "metadata": {
        "colab": {
          "base_uri": "https://localhost:8080/"
        },
        "id": "7jPZnl1VSTUV",
        "outputId": "96bee676-8369-4d17-df7f-9a47f162eff6"
      },
      "execution_count": 169,
      "outputs": [
        {
          "output_type": "execute_result",
          "data": {
            "text/plain": [
              "array([0, 1, 2, 3])"
            ]
          },
          "metadata": {},
          "execution_count": 169
        }
      ]
    },
    {
      "cell_type": "code",
      "source": [
        "b"
      ],
      "metadata": {
        "colab": {
          "base_uri": "https://localhost:8080/"
        },
        "id": "BPO9uK7HSTNs",
        "outputId": "02a0391f-a4f3-4d38-a980-0f6d2ab5a980"
      },
      "execution_count": 170,
      "outputs": [
        {
          "output_type": "execute_result",
          "data": {
            "text/plain": [
              "array([[ 0,  1,  2,  3],\n",
              "       [ 4,  5,  6,  7],\n",
              "       [ 8,  9, 10, 11]])"
            ]
          },
          "metadata": {},
          "execution_count": 170
        }
      ]
    },
    {
      "cell_type": "code",
      "source": [
        "a+b"
      ],
      "metadata": {
        "colab": {
          "base_uri": "https://localhost:8080/"
        },
        "id": "z-s_OGdMQ82E",
        "outputId": "efc6f2f3-91c8-46cb-c32e-e47fb04664f8"
      },
      "execution_count": 171,
      "outputs": [
        {
          "output_type": "execute_result",
          "data": {
            "text/plain": [
              "array([[ 0,  2,  4,  6],\n",
              "       [ 4,  6,  8, 10],\n",
              "       [ 8, 10, 12, 14]])"
            ]
          },
          "metadata": {},
          "execution_count": 171
        }
      ]
    },
    {
      "cell_type": "code",
      "source": [
        "c = np.arange(6).reshape(2, 3)\n",
        "d = np.arange(6).reshape(3, 2)"
      ],
      "metadata": {
        "id": "L8YuWT6SQ8qi"
      },
      "execution_count": 177,
      "outputs": []
    },
    {
      "cell_type": "code",
      "source": [
        "c"
      ],
      "metadata": {
        "colab": {
          "base_uri": "https://localhost:8080/"
        },
        "id": "q4v23GevTPEV",
        "outputId": "61ad28ab-ab18-460b-95c4-5030203b3027"
      },
      "execution_count": 178,
      "outputs": [
        {
          "output_type": "execute_result",
          "data": {
            "text/plain": [
              "array([[0, 1, 2],\n",
              "       [3, 4, 5]])"
            ]
          },
          "metadata": {},
          "execution_count": 178
        }
      ]
    },
    {
      "cell_type": "code",
      "source": [
        "d"
      ],
      "metadata": {
        "colab": {
          "base_uri": "https://localhost:8080/"
        },
        "id": "QO9vLODVTO9o",
        "outputId": "187dad65-b106-4f9c-f265-187b1235195d"
      },
      "execution_count": 179,
      "outputs": [
        {
          "output_type": "execute_result",
          "data": {
            "text/plain": [
              "array([[0, 1],\n",
              "       [2, 3],\n",
              "       [4, 5]])"
            ]
          },
          "metadata": {},
          "execution_count": 179
        }
      ]
    },
    {
      "cell_type": "code",
      "source": [
        "c + d\n",
        "# here the elements cannot be repeated to be broadcasted"
      ],
      "metadata": {
        "colab": {
          "base_uri": "https://localhost:8080/",
          "height": 183
        },
        "id": "M96xRsU0TO1M",
        "outputId": "0173dad5-0cb6-45c6-e487-236fbcc7d4f9"
      },
      "execution_count": 181,
      "outputs": [
        {
          "output_type": "error",
          "ename": "ValueError",
          "evalue": "ignored",
          "traceback": [
            "\u001b[0;31m---------------------------------------------------------------------------\u001b[0m",
            "\u001b[0;31mValueError\u001b[0m                                Traceback (most recent call last)",
            "\u001b[0;32m<ipython-input-181-189e508f3609>\u001b[0m in \u001b[0;36m<cell line: 1>\u001b[0;34m()\u001b[0m\n\u001b[0;32m----> 1\u001b[0;31m \u001b[0mc\u001b[0m \u001b[0;34m+\u001b[0m \u001b[0md\u001b[0m\u001b[0;34m\u001b[0m\u001b[0;34m\u001b[0m\u001b[0m\n\u001b[0m\u001b[1;32m      2\u001b[0m \u001b[0;31m# here the elements cannot be repeated to be broadcasted\u001b[0m\u001b[0;34m\u001b[0m\u001b[0;34m\u001b[0m\u001b[0m\n",
            "\u001b[0;31mValueError\u001b[0m: operands could not be broadcast together with shapes (2,3) (3,2) "
          ]
        }
      ]
    },
    {
      "cell_type": "code",
      "source": [
        "a = np.arange(0, 40, 10).reshape(4, 1)\n",
        "a.shape"
      ],
      "metadata": {
        "colab": {
          "base_uri": "https://localhost:8080/"
        },
        "id": "o2iyQ2vcUOP0",
        "outputId": "189e5411-4150-4348-8320-d9c95d4943db"
      },
      "execution_count": 183,
      "outputs": [
        {
          "output_type": "execute_result",
          "data": {
            "text/plain": [
              "(4, 1)"
            ]
          },
          "metadata": {},
          "execution_count": 183
        }
      ]
    },
    {
      "cell_type": "code",
      "source": [
        "np.arange(0, 40, 10)#[:, np.newaxis]"
      ],
      "metadata": {
        "colab": {
          "base_uri": "https://localhost:8080/"
        },
        "id": "d8LtZx72UOHE",
        "outputId": "d233915e-b910-4c28-d30c-c5fc19d7b1ed"
      },
      "execution_count": 188,
      "outputs": [
        {
          "output_type": "execute_result",
          "data": {
            "text/plain": [
              "array([[ 0],\n",
              "       [10],\n",
              "       [20],\n",
              "       [30]])"
            ]
          },
          "metadata": {},
          "execution_count": 188
        }
      ]
    },
    {
      "cell_type": "code",
      "source": [
        "a = np.arange(5)[np.newaxis]\n",
        "a     # adds a new axis"
      ],
      "metadata": {
        "colab": {
          "base_uri": "https://localhost:8080/"
        },
        "id": "Hn3jeEVZUOAS",
        "outputId": "38805c37-5a26-4cc9-beec-a51963bad530"
      },
      "execution_count": 190,
      "outputs": [
        {
          "output_type": "execute_result",
          "data": {
            "text/plain": [
              "array([[0, 1, 2, 3, 4]])"
            ]
          },
          "metadata": {},
          "execution_count": 190
        }
      ]
    },
    {
      "cell_type": "code",
      "source": [],
      "metadata": {
        "id": "-S66g-I9UN4-"
      },
      "execution_count": null,
      "outputs": []
    }
  ]
}